{
  "nbformat": 4,
  "nbformat_minor": 0,
  "metadata": {
    "colab": {
      "name": "Project Two.ipynb",
      "provenance": [],
      "collapsed_sections": [],
      "include_colab_link": true
    },
    "kernelspec": {
      "name": "python3",
      "display_name": "Python 3"
    },
    "language_info": {
      "name": "python"
    },
    "accelerator": "GPU",
    "widgets": {
      "application/vnd.jupyter.widget-state+json": {
        "1c1bc4966f474519afa61b25d2607ecf": {
          "model_module": "@jupyter-widgets/controls",
          "model_name": "HBoxModel",
          "model_module_version": "1.5.0",
          "state": {
            "_view_name": "HBoxView",
            "_dom_classes": [],
            "_model_name": "HBoxModel",
            "_view_module": "@jupyter-widgets/controls",
            "_model_module_version": "1.5.0",
            "_view_count": null,
            "_view_module_version": "1.5.0",
            "box_style": "",
            "layout": "IPY_MODEL_df9b3cef7a7c4c188cc53b29c364127b",
            "_model_module": "@jupyter-widgets/controls",
            "children": [
              "IPY_MODEL_a51f63699bc74b168a69e041a98371bc",
              "IPY_MODEL_cf6f0856282542e3b310e82f58f4af50",
              "IPY_MODEL_9b8e2a39a88c4ba38937922eda7ee6c2"
            ]
          }
        },
        "df9b3cef7a7c4c188cc53b29c364127b": {
          "model_module": "@jupyter-widgets/base",
          "model_name": "LayoutModel",
          "model_module_version": "1.2.0",
          "state": {
            "_view_name": "LayoutView",
            "grid_template_rows": null,
            "right": null,
            "justify_content": null,
            "_view_module": "@jupyter-widgets/base",
            "overflow": null,
            "_model_module_version": "1.2.0",
            "_view_count": null,
            "flex_flow": null,
            "width": null,
            "min_width": null,
            "border": null,
            "align_items": null,
            "bottom": null,
            "_model_module": "@jupyter-widgets/base",
            "top": null,
            "grid_column": null,
            "overflow_y": null,
            "overflow_x": null,
            "grid_auto_flow": null,
            "grid_area": null,
            "grid_template_columns": null,
            "flex": null,
            "_model_name": "LayoutModel",
            "justify_items": null,
            "grid_row": null,
            "max_height": null,
            "align_content": null,
            "visibility": null,
            "align_self": null,
            "height": null,
            "min_height": null,
            "padding": null,
            "grid_auto_rows": null,
            "grid_gap": null,
            "max_width": null,
            "order": null,
            "_view_module_version": "1.2.0",
            "grid_template_areas": null,
            "object_position": null,
            "object_fit": null,
            "grid_auto_columns": null,
            "margin": null,
            "display": null,
            "left": null
          }
        },
        "a51f63699bc74b168a69e041a98371bc": {
          "model_module": "@jupyter-widgets/controls",
          "model_name": "HTMLModel",
          "model_module_version": "1.5.0",
          "state": {
            "_view_name": "HTMLView",
            "style": "IPY_MODEL_2311ce049a9c48548416e783df647ea8",
            "_dom_classes": [],
            "description": "",
            "_model_name": "HTMLModel",
            "placeholder": "​",
            "_view_module": "@jupyter-widgets/controls",
            "_model_module_version": "1.5.0",
            "value": "Dl Completed...: 100%",
            "_view_count": null,
            "_view_module_version": "1.5.0",
            "description_tooltip": null,
            "_model_module": "@jupyter-widgets/controls",
            "layout": "IPY_MODEL_c56b7b581de84b80b07ef21525bc340f"
          }
        },
        "cf6f0856282542e3b310e82f58f4af50": {
          "model_module": "@jupyter-widgets/controls",
          "model_name": "FloatProgressModel",
          "model_module_version": "1.5.0",
          "state": {
            "_view_name": "ProgressView",
            "style": "IPY_MODEL_338432c794614e4db7f4eb48eb566429",
            "_dom_classes": [],
            "description": "",
            "_model_name": "FloatProgressModel",
            "bar_style": "success",
            "max": 5,
            "_view_module": "@jupyter-widgets/controls",
            "_model_module_version": "1.5.0",
            "value": 5,
            "_view_count": null,
            "_view_module_version": "1.5.0",
            "orientation": "horizontal",
            "min": 0,
            "description_tooltip": null,
            "_model_module": "@jupyter-widgets/controls",
            "layout": "IPY_MODEL_41e51f8a3f394efea852f55426fa3ae7"
          }
        },
        "9b8e2a39a88c4ba38937922eda7ee6c2": {
          "model_module": "@jupyter-widgets/controls",
          "model_name": "HTMLModel",
          "model_module_version": "1.5.0",
          "state": {
            "_view_name": "HTMLView",
            "style": "IPY_MODEL_0179d0835364444d97373ee5662af698",
            "_dom_classes": [],
            "description": "",
            "_model_name": "HTMLModel",
            "placeholder": "​",
            "_view_module": "@jupyter-widgets/controls",
            "_model_module_version": "1.5.0",
            "value": " 5/5 [00:02&lt;00:00,  2.22 file/s]",
            "_view_count": null,
            "_view_module_version": "1.5.0",
            "description_tooltip": null,
            "_model_module": "@jupyter-widgets/controls",
            "layout": "IPY_MODEL_2819c904f8c94f7c914cb17cc5255091"
          }
        },
        "2311ce049a9c48548416e783df647ea8": {
          "model_module": "@jupyter-widgets/controls",
          "model_name": "DescriptionStyleModel",
          "model_module_version": "1.5.0",
          "state": {
            "_view_name": "StyleView",
            "_model_name": "DescriptionStyleModel",
            "description_width": "",
            "_view_module": "@jupyter-widgets/base",
            "_model_module_version": "1.5.0",
            "_view_count": null,
            "_view_module_version": "1.2.0",
            "_model_module": "@jupyter-widgets/controls"
          }
        },
        "c56b7b581de84b80b07ef21525bc340f": {
          "model_module": "@jupyter-widgets/base",
          "model_name": "LayoutModel",
          "model_module_version": "1.2.0",
          "state": {
            "_view_name": "LayoutView",
            "grid_template_rows": null,
            "right": null,
            "justify_content": null,
            "_view_module": "@jupyter-widgets/base",
            "overflow": null,
            "_model_module_version": "1.2.0",
            "_view_count": null,
            "flex_flow": null,
            "width": null,
            "min_width": null,
            "border": null,
            "align_items": null,
            "bottom": null,
            "_model_module": "@jupyter-widgets/base",
            "top": null,
            "grid_column": null,
            "overflow_y": null,
            "overflow_x": null,
            "grid_auto_flow": null,
            "grid_area": null,
            "grid_template_columns": null,
            "flex": null,
            "_model_name": "LayoutModel",
            "justify_items": null,
            "grid_row": null,
            "max_height": null,
            "align_content": null,
            "visibility": null,
            "align_self": null,
            "height": null,
            "min_height": null,
            "padding": null,
            "grid_auto_rows": null,
            "grid_gap": null,
            "max_width": null,
            "order": null,
            "_view_module_version": "1.2.0",
            "grid_template_areas": null,
            "object_position": null,
            "object_fit": null,
            "grid_auto_columns": null,
            "margin": null,
            "display": null,
            "left": null
          }
        },
        "338432c794614e4db7f4eb48eb566429": {
          "model_module": "@jupyter-widgets/controls",
          "model_name": "ProgressStyleModel",
          "model_module_version": "1.5.0",
          "state": {
            "_view_name": "StyleView",
            "_model_name": "ProgressStyleModel",
            "description_width": "",
            "_view_module": "@jupyter-widgets/base",
            "_model_module_version": "1.5.0",
            "_view_count": null,
            "_view_module_version": "1.2.0",
            "bar_color": null,
            "_model_module": "@jupyter-widgets/controls"
          }
        },
        "41e51f8a3f394efea852f55426fa3ae7": {
          "model_module": "@jupyter-widgets/base",
          "model_name": "LayoutModel",
          "model_module_version": "1.2.0",
          "state": {
            "_view_name": "LayoutView",
            "grid_template_rows": null,
            "right": null,
            "justify_content": null,
            "_view_module": "@jupyter-widgets/base",
            "overflow": null,
            "_model_module_version": "1.2.0",
            "_view_count": null,
            "flex_flow": null,
            "width": null,
            "min_width": null,
            "border": null,
            "align_items": null,
            "bottom": null,
            "_model_module": "@jupyter-widgets/base",
            "top": null,
            "grid_column": null,
            "overflow_y": null,
            "overflow_x": null,
            "grid_auto_flow": null,
            "grid_area": null,
            "grid_template_columns": null,
            "flex": null,
            "_model_name": "LayoutModel",
            "justify_items": null,
            "grid_row": null,
            "max_height": null,
            "align_content": null,
            "visibility": null,
            "align_self": null,
            "height": null,
            "min_height": null,
            "padding": null,
            "grid_auto_rows": null,
            "grid_gap": null,
            "max_width": null,
            "order": null,
            "_view_module_version": "1.2.0",
            "grid_template_areas": null,
            "object_position": null,
            "object_fit": null,
            "grid_auto_columns": null,
            "margin": null,
            "display": null,
            "left": null
          }
        },
        "0179d0835364444d97373ee5662af698": {
          "model_module": "@jupyter-widgets/controls",
          "model_name": "DescriptionStyleModel",
          "model_module_version": "1.5.0",
          "state": {
            "_view_name": "StyleView",
            "_model_name": "DescriptionStyleModel",
            "description_width": "",
            "_view_module": "@jupyter-widgets/base",
            "_model_module_version": "1.5.0",
            "_view_count": null,
            "_view_module_version": "1.2.0",
            "_model_module": "@jupyter-widgets/controls"
          }
        },
        "2819c904f8c94f7c914cb17cc5255091": {
          "model_module": "@jupyter-widgets/base",
          "model_name": "LayoutModel",
          "model_module_version": "1.2.0",
          "state": {
            "_view_name": "LayoutView",
            "grid_template_rows": null,
            "right": null,
            "justify_content": null,
            "_view_module": "@jupyter-widgets/base",
            "overflow": null,
            "_model_module_version": "1.2.0",
            "_view_count": null,
            "flex_flow": null,
            "width": null,
            "min_width": null,
            "border": null,
            "align_items": null,
            "bottom": null,
            "_model_module": "@jupyter-widgets/base",
            "top": null,
            "grid_column": null,
            "overflow_y": null,
            "overflow_x": null,
            "grid_auto_flow": null,
            "grid_area": null,
            "grid_template_columns": null,
            "flex": null,
            "_model_name": "LayoutModel",
            "justify_items": null,
            "grid_row": null,
            "max_height": null,
            "align_content": null,
            "visibility": null,
            "align_self": null,
            "height": null,
            "min_height": null,
            "padding": null,
            "grid_auto_rows": null,
            "grid_gap": null,
            "max_width": null,
            "order": null,
            "_view_module_version": "1.2.0",
            "grid_template_areas": null,
            "object_position": null,
            "object_fit": null,
            "grid_auto_columns": null,
            "margin": null,
            "display": null,
            "left": null
          }
        }
      }
    }
  },
  "cells": [
    {
      "cell_type": "markdown",
      "metadata": {
        "id": "view-in-github",
        "colab_type": "text"
      },
      "source": [
        "<a href=\"https://colab.research.google.com/github/shuvechchha/Neural-Network-Project/blob/main/Project_Two.ipynb\" target=\"_parent\"><img src=\"https://colab.research.google.com/assets/colab-badge.svg\" alt=\"Open In Colab\"/></a>"
      ]
    },
    {
      "cell_type": "markdown",
      "metadata": {
        "id": "pkFnfAnx7JKP"
      },
      "source": [
        "# Project Two\n",
        "\n",
        "This project involves observing the progress of several different network architectures learning an image classification task.\n",
        "\n",
        "Note that each network does require the cells before Part One to have been run, but they do not require the networks before them to have run. So you can break up your work and not have to run all the networks just to re-run the last one.\n",
        "\n",
        "You should set the runtime type to GPU under the Runtime menu to speed the computations. Note that this may restrict you to having one notebook open at a time."
      ]
    },
    {
      "cell_type": "markdown",
      "metadata": {
        "id": "k_DPcmSw5teg"
      },
      "source": [
        "See a List of TensorFlow datasets at: https://knowyourdata-tfds.withgoogle.com/\n",
        "\n",
        "See how to load them:\n",
        "https://www.tensorflow.org/datasets/overview\n",
        "\n",
        "See data augmentation discussion: https://www.tensorflow.org/tutorials/images/data_augmentation"
      ]
    },
    {
      "cell_type": "code",
      "metadata": {
        "id": "_YF3LzdL4PJv"
      },
      "source": [
        "# TensorFlow\n",
        "import tensorflow as tf\n",
        "\n",
        "# Datasets\n",
        "import tensorflow_datasets as tfds"
      ],
      "execution_count": null,
      "outputs": []
    },
    {
      "cell_type": "code",
      "metadata": {
        "colab": {
          "base_uri": "https://localhost:8080/",
          "height": 607,
          "referenced_widgets": [
            "1c1bc4966f474519afa61b25d2607ecf",
            "df9b3cef7a7c4c188cc53b29c364127b",
            "a51f63699bc74b168a69e041a98371bc",
            "cf6f0856282542e3b310e82f58f4af50",
            "9b8e2a39a88c4ba38937922eda7ee6c2",
            "2311ce049a9c48548416e783df647ea8",
            "c56b7b581de84b80b07ef21525bc340f",
            "338432c794614e4db7f4eb48eb566429",
            "41e51f8a3f394efea852f55426fa3ae7",
            "0179d0835364444d97373ee5662af698",
            "2819c904f8c94f7c914cb17cc5255091"
          ]
        },
        "id": "GT_9mP384THL",
        "outputId": "4b97204f-9983-4f05-cd37-6f91cffcf856"
      },
      "source": [
        "# Load in the tf_flowers dataset\n",
        "# Separate into training, testing and validation sets\n",
        "\n",
        "train_split = 'train[:80%]'\n",
        "validation_split = 'train[80%:90%]'\n",
        "test_split = 'train[90%:]'\n",
        "(ds_train, ds_validation, ds_test), ds_info = tfds.load(\n",
        "    'tf_flowers',\n",
        "    split=[train_split, validation_split, test_split],\n",
        "    shuffle_files=True,\n",
        "    as_supervised=True,\n",
        "    with_info=True,\n",
        ")\n",
        "\n",
        "print(ds_info)"
      ],
      "execution_count": null,
      "outputs": [
        {
          "output_type": "stream",
          "name": "stdout",
          "text": [
            "\u001b[1mDownloading and preparing dataset tf_flowers/3.0.1 (download: 218.21 MiB, generated: 221.83 MiB, total: 440.05 MiB) to /root/tensorflow_datasets/tf_flowers/3.0.1...\u001b[0m\n"
          ]
        },
        {
          "output_type": "stream",
          "name": "stderr",
          "text": [
            "WARNING:absl:Dataset tf_flowers is hosted on GCS. It will automatically be downloaded to your\n",
            "local data directory. If you'd instead prefer to read directly from our public\n",
            "GCS bucket (recommended if you're running on GCP), you can instead pass\n",
            "`try_gcs=True` to `tfds.load` or set `data_dir=gs://tfds-data/datasets`.\n",
            "\n"
          ]
        },
        {
          "output_type": "display_data",
          "data": {
            "application/vnd.jupyter.widget-view+json": {
              "model_id": "1c1bc4966f474519afa61b25d2607ecf",
              "version_minor": 0,
              "version_major": 2
            },
            "text/plain": [
              "Dl Completed...:   0%|          | 0/5 [00:00<?, ? file/s]"
            ]
          },
          "metadata": {}
        },
        {
          "output_type": "stream",
          "name": "stdout",
          "text": [
            "\n",
            "\u001b[1mDataset tf_flowers downloaded and prepared to /root/tensorflow_datasets/tf_flowers/3.0.1. Subsequent calls will reuse this data.\u001b[0m\n",
            "tfds.core.DatasetInfo(\n",
            "    name='tf_flowers',\n",
            "    version=3.0.1,\n",
            "    description='A large set of images of flowers',\n",
            "    homepage='https://www.tensorflow.org/tutorials/load_data/images',\n",
            "    features=FeaturesDict({\n",
            "        'image': Image(shape=(None, None, 3), dtype=tf.uint8),\n",
            "        'label': ClassLabel(shape=(), dtype=tf.int64, num_classes=5),\n",
            "    }),\n",
            "    total_num_examples=3670,\n",
            "    splits={\n",
            "        'train': 3670,\n",
            "    },\n",
            "    supervised_keys=('image', 'label'),\n",
            "    citation=\"\"\"@ONLINE {tfflowers,\n",
            "    author = \"The TensorFlow Team\",\n",
            "    title = \"Flowers\",\n",
            "    month = \"jan\",\n",
            "    year = \"2019\",\n",
            "    url = \"http://download.tensorflow.org/example_images/flower_photos.tgz\" }\"\"\",\n",
            "    redistribution_info=,\n",
            ")\n",
            "\n"
          ]
        }
      ]
    },
    {
      "cell_type": "code",
      "metadata": {
        "id": "eT3Sd8PsPapw"
      },
      "source": [
        "# Set some network parameters\n",
        "\n",
        "# Number of classes in the dataset\n",
        "num_classes = ds_info.features['label'].num_classes\n",
        "# Size of each image dimension (width and height)\n",
        "img_size = 80\n",
        "# Size of a batch of images\n",
        "batch_size = 128\n",
        "\n",
        "# Function to apply to each image to prepare it for training and inference\n",
        "def process_img(image, label):\n",
        "  # Resize the images, pad if needed to preserve aspect ratio\n",
        "  #image = tf.image.resize_with_pad(image, img_size, img_size)\n",
        "  image = tf.image.resize(image, (img_size, img_size))\n",
        "  # Change from ints in range 0-255 to floats in range 0-1\n",
        "  image = tf.cast(image, tf.float32) / 255.\n",
        "  # Change label from integer to one-hot vector\n",
        "  label = tf.one_hot(label, num_classes)\n",
        "  return image, label\n",
        "\n",
        "# Setup data pipeline\n",
        "# Training images should be shuffled\n",
        "train = ds_train.map(\n",
        "    process_img, \n",
        "    num_parallel_calls=tf.data.AUTOTUNE\n",
        "    ).cache().shuffle(ds_info.splits[train_split].num_examples).batch(128).prefetch(tf.data.AUTOTUNE)\n",
        "\n",
        "# Validation data for tuning hyperparameters\n",
        "validation = ds_validation.map(\n",
        "    process_img, \n",
        "    num_parallel_calls=tf.data.AUTOTUNE\n",
        "    ).cache().batch(batch_size).prefetch(tf.data.AUTOTUNE)\n",
        "\n",
        "# Test data for final evaluation\n",
        "test = ds_test.map(\n",
        "    process_img, \n",
        "    num_parallel_calls=tf.data.AUTOTUNE\n",
        "    ).cache().batch(batch_size).prefetch(tf.data.AUTOTUNE)"
      ],
      "execution_count": null,
      "outputs": []
    },
    {
      "cell_type": "markdown",
      "metadata": {
        "id": "IcX4tXKMMfBm"
      },
      "source": [
        "## Part One - Basic Two-Layer Network\n",
        "\n",
        "Build the network and the train the model using the cells below."
      ]
    },
    {
      "cell_type": "code",
      "metadata": {
        "id": "scxW18fTaG2T"
      },
      "source": [
        "# Basic two-layer network\n",
        "two_layer_model = tf.keras.Sequential([\n",
        "  tf.keras.layers.Flatten(),\n",
        "  tf.keras.layers.Dense(192, activation='relu'),\n",
        "  tf.keras.layers.Dense(64, activation='relu'),\n",
        "  tf.keras.layers.Dense(num_classes, activation='softmax'),\n",
        "])\n",
        "two_layer_model.compile(optimizer=tf.keras.optimizers.RMSprop(learning_rate=0.001),\n",
        "              loss=tf.keras.losses.CategoricalCrossentropy(),\n",
        "              metrics=[tf.keras.metrics.CategoricalAccuracy()])"
      ],
      "execution_count": null,
      "outputs": []
    },
    {
      "cell_type": "code",
      "metadata": {
        "id": "_Ir5jOzsVqat",
        "colab": {
          "base_uri": "https://localhost:8080/"
        },
        "outputId": "bd42d958-bf45-41c9-b474-c30a51820ae9"
      },
      "source": [
        "# Train the model\n",
        "# Watch the training and validation accuracy over time\n",
        "# A notably higher training accuracy means overfitting\n",
        "epochs=10\n",
        "history = two_layer_model.fit(\n",
        "  train,\n",
        "  validation_data=validation,\n",
        "  epochs=epochs\n",
        ")"
      ],
      "execution_count": null,
      "outputs": [
        {
          "output_type": "stream",
          "name": "stdout",
          "text": [
            "Epoch 1/10\n",
            "23/23 [==============================] - 7s 49ms/step - loss: 9.6726 - categorical_accuracy: 0.2439 - val_loss: 2.3378 - val_categorical_accuracy: 0.2480\n",
            "Epoch 2/10\n",
            "23/23 [==============================] - 0s 15ms/step - loss: 2.8965 - categorical_accuracy: 0.2609 - val_loss: 2.3937 - val_categorical_accuracy: 0.3678\n",
            "Epoch 3/10\n",
            "23/23 [==============================] - 0s 15ms/step - loss: 2.4597 - categorical_accuracy: 0.2691 - val_loss: 2.3884 - val_categorical_accuracy: 0.3542\n",
            "Epoch 4/10\n",
            "23/23 [==============================] - 0s 15ms/step - loss: 2.1022 - categorical_accuracy: 0.3260 - val_loss: 2.1888 - val_categorical_accuracy: 0.2371\n",
            "Epoch 5/10\n",
            "23/23 [==============================] - 0s 15ms/step - loss: 2.1054 - categorical_accuracy: 0.3362 - val_loss: 1.7072 - val_categorical_accuracy: 0.3052\n",
            "Epoch 6/10\n",
            "23/23 [==============================] - 0s 15ms/step - loss: 1.8503 - categorical_accuracy: 0.3706 - val_loss: 3.0786 - val_categorical_accuracy: 0.3842\n",
            "Epoch 7/10\n",
            "23/23 [==============================] - 0s 16ms/step - loss: 1.6467 - categorical_accuracy: 0.3913 - val_loss: 1.5679 - val_categorical_accuracy: 0.3896\n",
            "Epoch 8/10\n",
            "23/23 [==============================] - 0s 16ms/step - loss: 1.5115 - categorical_accuracy: 0.4036 - val_loss: 1.6860 - val_categorical_accuracy: 0.3515\n",
            "Epoch 9/10\n",
            "23/23 [==============================] - 0s 16ms/step - loss: 1.4545 - categorical_accuracy: 0.3965 - val_loss: 1.4636 - val_categorical_accuracy: 0.4087\n",
            "Epoch 10/10\n",
            "23/23 [==============================] - 0s 15ms/step - loss: 1.4512 - categorical_accuracy: 0.3944 - val_loss: 1.7649 - val_categorical_accuracy: 0.3052\n"
          ]
        }
      ]
    },
    {
      "cell_type": "code",
      "metadata": {
        "colab": {
          "base_uri": "https://localhost:8080/"
        },
        "id": "KOvq2EqDwN4l",
        "outputId": "1c752bca-2531-44e2-d02a-fdb773f0603b"
      },
      "source": [
        "# How big is this model?\n",
        "two_layer_model.summary()"
      ],
      "execution_count": null,
      "outputs": [
        {
          "output_type": "stream",
          "name": "stdout",
          "text": [
            "Model: \"sequential\"\n",
            "_________________________________________________________________\n",
            " Layer (type)                Output Shape              Param #   \n",
            "=================================================================\n",
            " flatten (Flatten)           (None, 19200)             0         \n",
            "                                                                 \n",
            " dense (Dense)               (None, 192)               3686592   \n",
            "                                                                 \n",
            " dense_1 (Dense)             (None, 64)                12352     \n",
            "                                                                 \n",
            " dense_2 (Dense)             (None, 5)                 325       \n",
            "                                                                 \n",
            "=================================================================\n",
            "Total params: 3,699,269\n",
            "Trainable params: 3,699,269\n",
            "Non-trainable params: 0\n",
            "_________________________________________________________________\n"
          ]
        }
      ]
    },
    {
      "cell_type": "markdown",
      "metadata": {
        "id": "pmpCIreENB74"
      },
      "source": [
        "### Questions\n",
        "1. How did the network do? What were the final training and validation accuracies?\n",
        "2. Is there evidence of overfitting?\n",
        "3. Why do you think the network had trouble? What are the limitations of this architecture?"
      ]
    },
    {
      "cell_type": "markdown",
      "source": [
        "**1. The network did not do well. The final training accuracy is 0.3944 and the validation accuracy is 0.3052.**\n",
        "\n",
        "**2. Yes, there are about 5 instances of overfitting.**\n",
        "\n",
        "**3. I think the network had trouble because the overfitting caused the model to learn noise. The limitations of this architecture is that it is prone to overfitting.**"
      ],
      "metadata": {
        "id": "bm_LhL93OkUG"
      }
    },
    {
      "cell_type": "markdown",
      "metadata": {
        "id": "8ZWrtKHQNCIZ"
      },
      "source": [
        "## Part Two - Basic Convolutional Network\n",
        "\n",
        "Build the network and the train the model using the cells below."
      ]
    },
    {
      "cell_type": "code",
      "metadata": {
        "id": "L1uCQ98hqeip"
      },
      "source": [
        "# A basic convolutional neural network with two sets of convolution/pooling layers\n",
        "# Notice that typically only one hidden dense layer is used\n",
        "basic_conv_model = tf.keras.Sequential([\n",
        "  tf.keras.layers.Conv2D(16, 3, padding='same', activation='relu'),\n",
        "  tf.keras.layers.MaxPooling2D(),\n",
        "  tf.keras.layers.Conv2D(24, 3, padding='same', activation='relu'),\n",
        "  tf.keras.layers.MaxPooling2D(),\n",
        "  tf.keras.layers.Flatten(),\n",
        "  tf.keras.layers.Dense(192, activation='relu'),\n",
        "  tf.keras.layers.Dense(num_classes, activation='softmax'),\n",
        "])\n",
        "basic_conv_model.compile(optimizer=tf.keras.optimizers.RMSprop(learning_rate=0.001),\n",
        "              loss=tf.keras.losses.CategoricalCrossentropy(),\n",
        "              metrics=[tf.keras.metrics.CategoricalAccuracy()])"
      ],
      "execution_count": null,
      "outputs": []
    },
    {
      "cell_type": "code",
      "metadata": {
        "colab": {
          "base_uri": "https://localhost:8080/"
        },
        "id": "4yypyYUBql4H",
        "outputId": "7aa66dee-5a4f-4a19-f608-9396e93f5911"
      },
      "source": [
        "# Train the model\n",
        "# Watch the training and validation accuracy over time\n",
        "# A notably higher training accuracy means overfitting\n",
        "epochs=10\n",
        "history = basic_conv_model.fit(\n",
        "  train,\n",
        "  validation_data=validation,\n",
        "  epochs=epochs\n",
        ")"
      ],
      "execution_count": null,
      "outputs": [
        {
          "output_type": "stream",
          "name": "stdout",
          "text": [
            "Epoch 1/10\n",
            "23/23 [==============================] - 9s 52ms/step - loss: 1.5712 - categorical_accuracy: 0.3549 - val_loss: 1.2349 - val_categorical_accuracy: 0.5150\n",
            "Epoch 2/10\n",
            "23/23 [==============================] - 1s 32ms/step - loss: 1.1960 - categorical_accuracy: 0.4990 - val_loss: 1.1274 - val_categorical_accuracy: 0.5722\n",
            "Epoch 3/10\n",
            "23/23 [==============================] - 1s 32ms/step - loss: 1.0586 - categorical_accuracy: 0.5780 - val_loss: 1.1199 - val_categorical_accuracy: 0.5640\n",
            "Epoch 4/10\n",
            "23/23 [==============================] - 1s 31ms/step - loss: 0.9843 - categorical_accuracy: 0.6168 - val_loss: 0.9535 - val_categorical_accuracy: 0.6540\n",
            "Epoch 5/10\n",
            "23/23 [==============================] - 1s 30ms/step - loss: 0.9087 - categorical_accuracy: 0.6628 - val_loss: 0.9816 - val_categorical_accuracy: 0.6158\n",
            "Epoch 6/10\n",
            "23/23 [==============================] - 1s 30ms/step - loss: 0.8393 - categorical_accuracy: 0.6911 - val_loss: 0.9837 - val_categorical_accuracy: 0.6322\n",
            "Epoch 7/10\n",
            "23/23 [==============================] - 1s 31ms/step - loss: 0.7739 - categorical_accuracy: 0.7098 - val_loss: 1.1204 - val_categorical_accuracy: 0.5531\n",
            "Epoch 8/10\n",
            "23/23 [==============================] - 1s 31ms/step - loss: 0.6977 - categorical_accuracy: 0.7507 - val_loss: 0.9464 - val_categorical_accuracy: 0.6512\n",
            "Epoch 9/10\n",
            "23/23 [==============================] - 1s 32ms/step - loss: 0.6489 - categorical_accuracy: 0.7619 - val_loss: 0.9339 - val_categorical_accuracy: 0.6485\n",
            "Epoch 10/10\n",
            "23/23 [==============================] - 1s 31ms/step - loss: 0.5830 - categorical_accuracy: 0.7997 - val_loss: 0.9540 - val_categorical_accuracy: 0.6431\n"
          ]
        }
      ]
    },
    {
      "cell_type": "code",
      "metadata": {
        "colab": {
          "base_uri": "https://localhost:8080/"
        },
        "id": "xbxJjJo8wUWG",
        "outputId": "d7afbf3c-4e7f-47b5-81f0-4661f1b6c0ca"
      },
      "source": [
        "# How big is this model?\n",
        "basic_conv_model.summary()"
      ],
      "execution_count": null,
      "outputs": [
        {
          "output_type": "stream",
          "name": "stdout",
          "text": [
            "Model: \"sequential_1\"\n",
            "_________________________________________________________________\n",
            " Layer (type)                Output Shape              Param #   \n",
            "=================================================================\n",
            " conv2d (Conv2D)             (None, 80, 80, 16)        448       \n",
            "                                                                 \n",
            " max_pooling2d (MaxPooling2D  (None, 40, 40, 16)       0         \n",
            " )                                                               \n",
            "                                                                 \n",
            " conv2d_1 (Conv2D)           (None, 40, 40, 24)        3480      \n",
            "                                                                 \n",
            " max_pooling2d_1 (MaxPooling  (None, 20, 20, 24)       0         \n",
            " 2D)                                                             \n",
            "                                                                 \n",
            " flatten_1 (Flatten)         (None, 9600)              0         \n",
            "                                                                 \n",
            " dense_3 (Dense)             (None, 192)               1843392   \n",
            "                                                                 \n",
            " dense_4 (Dense)             (None, 5)                 965       \n",
            "                                                                 \n",
            "=================================================================\n",
            "Total params: 1,848,285\n",
            "Trainable params: 1,848,285\n",
            "Non-trainable params: 0\n",
            "_________________________________________________________________\n"
          ]
        }
      ]
    },
    {
      "cell_type": "markdown",
      "metadata": {
        "id": "puqplpWWPGFB"
      },
      "source": [
        "### Questions\n",
        "1. How did the network do? What were the final training and validation accuracies?\n",
        "2. Is there evidence of overfitting?\n",
        "3. What do convolutional networks do to improve learning?"
      ]
    },
    {
      "cell_type": "markdown",
      "source": [
        "**1. The model did fairly well. The final training accuracy is 0.7997 and the validation accuracy is 0.6431.**\n",
        "\n",
        "**2. Yes, there are about seven instances of overfitting.**\n",
        "\n",
        "**3. Convolution networks can use data augmentation to execute random transformations as well as regularizations like drop out, which randomly sets the activations to zero, pushing the network to develop redundancy and therefore improve learning.**"
      ],
      "metadata": {
        "id": "uVpOfWA3OcBa"
      }
    },
    {
      "cell_type": "markdown",
      "metadata": {
        "id": "zDKrUjoJPU-s"
      },
      "source": [
        "## Augmented Convolutional Neural Network\n",
        "\n",
        "Build the network and the train the model using the cells below."
      ]
    },
    {
      "cell_type": "code",
      "metadata": {
        "id": "0d6PJuXsrG_S"
      },
      "source": [
        "# A convolutional neural network with some features to combat overfitting\n",
        "# Data augmentation spices up the input by applying random transformations\n",
        "# Dropout nulls out neurons randomly forcing the network to develop\n",
        "# redundancy and thus fit less to noise\n",
        "aug_conv_model = tf.keras.Sequential([\n",
        "  tf.keras.layers.RandomFlip(\"horizontal_and_vertical\"),\n",
        "  tf.keras.layers.RandomRotation(0.2),\n",
        "  tf.keras.layers.Conv2D(16, 3, padding='same', activation='relu'),\n",
        "  tf.keras.layers.MaxPooling2D(),\n",
        "  tf.keras.layers.Conv2D(24, 3, padding='same', activation='relu'),\n",
        "  tf.keras.layers.MaxPooling2D(),\n",
        "  tf.keras.layers.Flatten(),\n",
        "  tf.keras.layers.Dense(192, activation='relu'),\n",
        "  tf.keras.layers.Dropout(0.25),\n",
        "  tf.keras.layers.Dense(num_classes, activation='softmax'),\n",
        "])\n",
        "aug_conv_model.compile(optimizer=tf.keras.optimizers.RMSprop(learning_rate=0.001),\n",
        "              loss=tf.keras.losses.CategoricalCrossentropy(),\n",
        "              metrics=[tf.keras.metrics.CategoricalAccuracy()])"
      ],
      "execution_count": null,
      "outputs": []
    },
    {
      "cell_type": "code",
      "metadata": {
        "colab": {
          "base_uri": "https://localhost:8080/"
        },
        "id": "qa5Qbyg8rSAJ",
        "outputId": "c36ea365-4854-4592-d838-02f47249cbf1"
      },
      "source": [
        "# Train the model\n",
        "# Watch the training and validation accuracy over time\n",
        "# A notably higher training accuracy means overfitting\n",
        "epochs=10\n",
        "history = aug_conv_model.fit(\n",
        "  train,\n",
        "  validation_data=validation,\n",
        "  epochs=epochs\n",
        ")"
      ],
      "execution_count": null,
      "outputs": [
        {
          "output_type": "stream",
          "name": "stdout",
          "text": [
            "Epoch 1/10\n",
            "23/23 [==============================] - 2s 47ms/step - loss: 1.7883 - categorical_accuracy: 0.3420 - val_loss: 1.3191 - val_categorical_accuracy: 0.4659\n",
            "Epoch 2/10\n",
            "23/23 [==============================] - 1s 37ms/step - loss: 1.2732 - categorical_accuracy: 0.4547 - val_loss: 1.1815 - val_categorical_accuracy: 0.5395\n",
            "Epoch 3/10\n",
            "23/23 [==============================] - 1s 37ms/step - loss: 1.1997 - categorical_accuracy: 0.4963 - val_loss: 1.1611 - val_categorical_accuracy: 0.5041\n",
            "Epoch 4/10\n",
            "23/23 [==============================] - 1s 36ms/step - loss: 1.1444 - categorical_accuracy: 0.5266 - val_loss: 1.1458 - val_categorical_accuracy: 0.5313\n",
            "Epoch 5/10\n",
            "23/23 [==============================] - 1s 37ms/step - loss: 1.1111 - categorical_accuracy: 0.5484 - val_loss: 1.0950 - val_categorical_accuracy: 0.5695\n",
            "Epoch 6/10\n",
            "23/23 [==============================] - 1s 37ms/step - loss: 1.0776 - categorical_accuracy: 0.5722 - val_loss: 1.0595 - val_categorical_accuracy: 0.5995\n",
            "Epoch 7/10\n",
            "23/23 [==============================] - 1s 37ms/step - loss: 1.0469 - categorical_accuracy: 0.5838 - val_loss: 0.9859 - val_categorical_accuracy: 0.6104\n",
            "Epoch 8/10\n",
            "23/23 [==============================] - 1s 36ms/step - loss: 1.0207 - categorical_accuracy: 0.5971 - val_loss: 1.0742 - val_categorical_accuracy: 0.5913\n",
            "Epoch 9/10\n",
            "23/23 [==============================] - 1s 36ms/step - loss: 0.9981 - categorical_accuracy: 0.6087 - val_loss: 0.9823 - val_categorical_accuracy: 0.6240\n",
            "Epoch 10/10\n",
            "23/23 [==============================] - 1s 36ms/step - loss: 0.9640 - categorical_accuracy: 0.6257 - val_loss: 0.9967 - val_categorical_accuracy: 0.6267\n"
          ]
        }
      ]
    },
    {
      "cell_type": "code",
      "metadata": {
        "colab": {
          "base_uri": "https://localhost:8080/"
        },
        "id": "b_22UK_Uwb-e",
        "outputId": "7ebbff59-06f8-4138-c13f-bc8c78b5c882"
      },
      "source": [
        "# Evaluate its performance on the test set\n",
        "print(\"Testing Results:\")\n",
        "aug_conv_model.evaluate(test)"
      ],
      "execution_count": null,
      "outputs": [
        {
          "output_type": "stream",
          "name": "stdout",
          "text": [
            "Testing Results:\n",
            "3/3 [==============================] - 0s 15ms/step - loss: 0.9146 - categorical_accuracy: 0.6213\n"
          ]
        },
        {
          "output_type": "execute_result",
          "data": {
            "text/plain": [
              "[0.9145666360855103, 0.6212534308433533]"
            ]
          },
          "metadata": {},
          "execution_count": 18
        }
      ]
    },
    {
      "cell_type": "markdown",
      "metadata": {
        "id": "s0YIR3aDPpGG"
      },
      "source": [
        "### Questions\n",
        "1. How did the network do? What were the final training and validation accuracies?\n",
        "2. Is there evidence of overfitting?\n",
        "3. Is the overfitting reduced compared to the previous network?\n",
        "4. How did the network do on the test data that it hadn't seen before? Was the accuracy comparable?\n"
      ]
    },
    {
      "cell_type": "markdown",
      "source": [
        "**1. The network did good. The final training accuracy is 0.6117 and the validation accuracy is 0.5749.**\n",
        "\n",
        "**2. There is no evidence of overfitting.**\n",
        "\n",
        "**3. Yes, the overfitting has reduced compared to previous networks.**\n",
        "\n",
        "**4. The network performed well on the test data with an accuracy of 0.6213. Yes, the accuracy was comparable.**"
      ],
      "metadata": {
        "id": "rnCn23dWWqGn"
      }
    },
    {
      "cell_type": "markdown",
      "metadata": {
        "id": "pJ7aGId4P_nS"
      },
      "source": [
        "## Network with Pre-trained Feature Extractors\n",
        "\n",
        "Build the network and the train the model using the cells below."
      ]
    },
    {
      "cell_type": "code",
      "metadata": {
        "id": "pqb2qEqHMFAh"
      },
      "source": [
        "# Load in the pre-trained model\n",
        "# Note that include_top=False means we are including just\n",
        "# the feature extractors and not the classification layers\n",
        "pre_trained_model = tf.keras.applications.inception_v3.InceptionV3(\n",
        "    input_shape=(img_size, img_size, 3), include_top=False)\n",
        "\n",
        "# Make sure we don't try to train these massive layers\n",
        "pre_trained_model.trainable = False\n",
        "\n",
        "# Build the model as before\n",
        "pre_trained_model = tf.keras.Sequential([\n",
        "  pre_trained_model,\n",
        "  tf.keras.layers.Flatten(),\n",
        "  tf.keras.layers.Dense(192, activation='relu'),\n",
        "  tf.keras.layers.Dense(num_classes, activation='softmax'),\n",
        "])\n",
        "pre_trained_model.compile(optimizer=tf.keras.optimizers.RMSprop(learning_rate=0.001),\n",
        "              loss=tf.keras.losses.CategoricalCrossentropy(),\n",
        "              metrics=[tf.keras.metrics.CategoricalAccuracy()])\n",
        "\n"
      ],
      "execution_count": null,
      "outputs": []
    },
    {
      "cell_type": "code",
      "metadata": {
        "colab": {
          "base_uri": "https://localhost:8080/"
        },
        "id": "JvVvJYdpSLsn",
        "outputId": "ff5b65d5-adac-4ac6-983c-34ee7a08aeee"
      },
      "source": [
        "# Train the model\n",
        "# Watch the training and validation accuracy over time\n",
        "# A notably higher training accuracy means overfitting\n",
        "epochs=5\n",
        "history = pre_trained_model.fit(\n",
        "  train,\n",
        "  validation_data=validation,\n",
        "  epochs=epochs\n",
        ")"
      ],
      "execution_count": null,
      "outputs": [
        {
          "output_type": "stream",
          "name": "stdout",
          "text": [
            "Epoch 1/5\n",
            "23/23 [==============================] - 9s 163ms/step - loss: 1.4971 - categorical_accuracy: 0.4854 - val_loss: 0.9766 - val_categorical_accuracy: 0.6131\n",
            "Epoch 2/5\n",
            "23/23 [==============================] - 2s 93ms/step - loss: 0.8639 - categorical_accuracy: 0.6727 - val_loss: 1.0014 - val_categorical_accuracy: 0.6185\n",
            "Epoch 3/5\n",
            "23/23 [==============================] - 2s 92ms/step - loss: 0.7175 - categorical_accuracy: 0.7408 - val_loss: 0.8605 - val_categorical_accuracy: 0.6676\n",
            "Epoch 4/5\n",
            "23/23 [==============================] - 2s 94ms/step - loss: 0.5829 - categorical_accuracy: 0.7933 - val_loss: 0.8832 - val_categorical_accuracy: 0.6703\n",
            "Epoch 5/5\n",
            "23/23 [==============================] - 2s 92ms/step - loss: 0.4636 - categorical_accuracy: 0.8416 - val_loss: 0.8924 - val_categorical_accuracy: 0.6757\n"
          ]
        }
      ]
    },
    {
      "cell_type": "code",
      "metadata": {
        "colab": {
          "base_uri": "https://localhost:8080/"
        },
        "id": "2ruul0bUQ4r0",
        "outputId": "8447b9a8-cb96-4970-8dfd-eeb5a3896c9a"
      },
      "source": [
        "pre_trained_model.summary()"
      ],
      "execution_count": null,
      "outputs": [
        {
          "output_type": "stream",
          "name": "stdout",
          "text": [
            "Model: \"sequential_5\"\n",
            "_________________________________________________________________\n",
            " Layer (type)                Output Shape              Param #   \n",
            "=================================================================\n",
            " inception_v3 (Functional)   (None, 1, 1, 2048)        21802784  \n",
            "                                                                 \n",
            " flatten_5 (Flatten)         (None, 2048)              0         \n",
            "                                                                 \n",
            " dense_11 (Dense)            (None, 192)               393408    \n",
            "                                                                 \n",
            " dense_12 (Dense)            (None, 5)                 965       \n",
            "                                                                 \n",
            "=================================================================\n",
            "Total params: 22,197,157\n",
            "Trainable params: 394,373\n",
            "Non-trainable params: 21,802,784\n",
            "_________________________________________________________________\n"
          ]
        }
      ]
    },
    {
      "cell_type": "markdown",
      "metadata": {
        "id": "mkzpeCSERTJJ"
      },
      "source": [
        "### Questions\n",
        "1. How did the network do? What were the final training and validation accuracies?\n",
        "2. Is there evidence of overfitting?\n",
        "3. Why might you include pre-trained layers? Are they improving performance?\n",
        "4. How does the number of parameters (weights) compare to the previous networks (Hint: look at the summaries).\n"
      ]
    },
    {
      "cell_type": "markdown",
      "source": [
        "**1. The network performed well. The final training accuracy is 0.8416 and the validation accuracy is 0.6757.**\n",
        "\n",
        "**2. Yes, there are around four evidences of overfitting.**\n",
        "\n",
        "**3. I would include pre-trained layers to increase the efficiency of the model. They are definately improving preformances.**\n",
        "\n",
        "**4. The number of parameters in this network was much higher than previous networks.**"
      ],
      "metadata": {
        "id": "oD997PcvcIPn"
      }
    }
  ]
}